{
  "nbformat": 4,
  "nbformat_minor": 0,
  "metadata": {
    "colab": {
      "provenance": [],
      "gpuType": "T4"
    },
    "kernelspec": {
      "name": "python3",
      "display_name": "Python 3"
    },
    "language_info": {
      "name": "python"
    },
    "accelerator": "GPU"
  },
  "cells": [
    {
      "cell_type": "markdown",
      "source": [
        "# **1. Perkenalan Dataset**\n"
      ],
      "metadata": {
        "id": "kZLRMFl0JyyQ"
      }
    },
    {
      "cell_type": "markdown",
      "source": [
        "Tahap pertama, Anda harus mencari dan menggunakan dataset dengan ketentuan sebagai berikut:\n",
        "\n",
        "1. **Sumber Dataset**:  \n",
        "   Dataset dapat diperoleh dari berbagai sumber, seperti public repositories (*Kaggle*, *UCI ML Repository*, *Open Data*) atau data primer yang Anda kumpulkan sendiri.\n"
      ],
      "metadata": {
        "id": "hssSDn-5n3HR"
      }
    },
    {
      "cell_type": "markdown",
      "source": [
        "# **2. Import Library**"
      ],
      "metadata": {
        "id": "fKADPWcFKlj3"
      }
    },
    {
      "cell_type": "markdown",
      "source": [
        "Pada tahap ini, Anda perlu mengimpor beberapa pustaka (library) Python yang dibutuhkan untuk analisis data dan pembangunan model machine learning atau deep learning."
      ],
      "metadata": {
        "id": "LgA3ERnVn84N"
      }
    },
    {
      "cell_type": "code",
      "source": [
        "import pandas as pd\n",
        "import numpy as np\n",
        "import matplotlib.pyplot as plt\n",
        "import seaborn as sns\n",
        "\n",
        "# Untuk kebutuhan preprocessing dan modeling (akan digunakan di langkah selanjutnya)\n",
        "from sklearn.model_selection import train_test_split\n",
        "from sklearn.preprocessing import StandardScaler, OneHotEncoder\n",
        "from sklearn.compose import ColumnTransformer"
      ],
      "metadata": {
        "id": "BlmvjLY9M4Yj"
      },
      "execution_count": null,
      "outputs": []
    },
    {
      "cell_type": "markdown",
      "source": [
        "# **3. Memuat Dataset**"
      ],
      "metadata": {
        "id": "f3YIEnAFKrKL"
      }
    },
    {
      "cell_type": "markdown",
      "source": [
        "Pada tahap ini, Anda perlu memuat dataset ke dalam notebook. Jika dataset dalam format CSV, Anda bisa menggunakan pustaka pandas untuk membacanya. Pastikan untuk mengecek beberapa baris awal dataset untuk memahami strukturnya dan memastikan data telah dimuat dengan benar.\n",
        "\n",
        "Jika dataset berada di Google Drive, pastikan Anda menghubungkan Google Drive ke Colab terlebih dahulu. Setelah dataset berhasil dimuat, langkah berikutnya adalah memeriksa kesesuaian data dan siap untuk dianalisis lebih lanjut.\n",
        "\n",
        "Jika dataset berupa unstructured data, silakan sesuaikan dengan format seperti kelas Machine Learning Pengembangan atau Machine Learning Terapan"
      ],
      "metadata": {
        "id": "Ey3ItwTen_7E"
      }
    },
    {
      "cell_type": "code",
      "source": [
        "# Asumsikan file berada dalam folder 'namadataset_raw' sesuai struktur yang diminta\n",
        "file_path = 'https://raw.githubusercontent.com/Nuno-Hadianto/Eksperimen_SML_Mohammed-Noeno-Hadianto/refs/heads/main/Software_Professional_Salaries.csv'\n",
        "df = pd.read_csv(file_path)\n",
        "\n",
        "# Cek 5 baris pertama untuk memastikan data terload dengan benar\n",
        "print(\"Shape Data:\", df.shape)\n",
        "df.head()"
      ],
      "metadata": {
        "id": "GHCGNTyrM5fS",
        "colab": {
          "base_uri": "https://localhost:8080/",
          "height": 224
        },
        "outputId": "ce701c74-0bc7-4d16-bf8d-e8877ddc418d"
      },
      "execution_count": null,
      "outputs": [
        {
          "output_type": "stream",
          "name": "stdout",
          "text": [
            "Shape Data: (22774, 6)\n"
          ]
        },
        {
          "output_type": "execute_result",
          "data": {
            "text/plain": [
              "   Rating                      Company Name          Job Title   Salary  \\\n",
              "0     3.8                            Sasken  Android Developer   400000   \n",
              "1     4.5  Advanced Millennium Technologies  Android Developer   400000   \n",
              "2     4.0                         Unacademy  Android Developer  1000000   \n",
              "3     3.8                SnapBizz Cloudtech  Android Developer   300000   \n",
              "4     4.4            Appoids Tech Solutions  Android Developer   600000   \n",
              "\n",
              "   Salaries Reported   Location  \n",
              "0                  3  Bangalore  \n",
              "1                  3  Bangalore  \n",
              "2                  3  Bangalore  \n",
              "3                  3  Bangalore  \n",
              "4                  3  Bangalore  "
            ],
            "text/html": [
              "\n",
              "  <div id=\"df-ca095bbe-6078-431a-ac99-83bcd3ca591d\" class=\"colab-df-container\">\n",
              "    <div>\n",
              "<style scoped>\n",
              "    .dataframe tbody tr th:only-of-type {\n",
              "        vertical-align: middle;\n",
              "    }\n",
              "\n",
              "    .dataframe tbody tr th {\n",
              "        vertical-align: top;\n",
              "    }\n",
              "\n",
              "    .dataframe thead th {\n",
              "        text-align: right;\n",
              "    }\n",
              "</style>\n",
              "<table border=\"1\" class=\"dataframe\">\n",
              "  <thead>\n",
              "    <tr style=\"text-align: right;\">\n",
              "      <th></th>\n",
              "      <th>Rating</th>\n",
              "      <th>Company Name</th>\n",
              "      <th>Job Title</th>\n",
              "      <th>Salary</th>\n",
              "      <th>Salaries Reported</th>\n",
              "      <th>Location</th>\n",
              "    </tr>\n",
              "  </thead>\n",
              "  <tbody>\n",
              "    <tr>\n",
              "      <th>0</th>\n",
              "      <td>3.8</td>\n",
              "      <td>Sasken</td>\n",
              "      <td>Android Developer</td>\n",
              "      <td>400000</td>\n",
              "      <td>3</td>\n",
              "      <td>Bangalore</td>\n",
              "    </tr>\n",
              "    <tr>\n",
              "      <th>1</th>\n",
              "      <td>4.5</td>\n",
              "      <td>Advanced Millennium Technologies</td>\n",
              "      <td>Android Developer</td>\n",
              "      <td>400000</td>\n",
              "      <td>3</td>\n",
              "      <td>Bangalore</td>\n",
              "    </tr>\n",
              "    <tr>\n",
              "      <th>2</th>\n",
              "      <td>4.0</td>\n",
              "      <td>Unacademy</td>\n",
              "      <td>Android Developer</td>\n",
              "      <td>1000000</td>\n",
              "      <td>3</td>\n",
              "      <td>Bangalore</td>\n",
              "    </tr>\n",
              "    <tr>\n",
              "      <th>3</th>\n",
              "      <td>3.8</td>\n",
              "      <td>SnapBizz Cloudtech</td>\n",
              "      <td>Android Developer</td>\n",
              "      <td>300000</td>\n",
              "      <td>3</td>\n",
              "      <td>Bangalore</td>\n",
              "    </tr>\n",
              "    <tr>\n",
              "      <th>4</th>\n",
              "      <td>4.4</td>\n",
              "      <td>Appoids Tech Solutions</td>\n",
              "      <td>Android Developer</td>\n",
              "      <td>600000</td>\n",
              "      <td>3</td>\n",
              "      <td>Bangalore</td>\n",
              "    </tr>\n",
              "  </tbody>\n",
              "</table>\n",
              "</div>\n",
              "    <div class=\"colab-df-buttons\">\n",
              "\n",
              "  <div class=\"colab-df-container\">\n",
              "    <button class=\"colab-df-convert\" onclick=\"convertToInteractive('df-ca095bbe-6078-431a-ac99-83bcd3ca591d')\"\n",
              "            title=\"Convert this dataframe to an interactive table.\"\n",
              "            style=\"display:none;\">\n",
              "\n",
              "  <svg xmlns=\"http://www.w3.org/2000/svg\" height=\"24px\" viewBox=\"0 -960 960 960\">\n",
              "    <path d=\"M120-120v-720h720v720H120Zm60-500h600v-160H180v160Zm220 220h160v-160H400v160Zm0 220h160v-160H400v160ZM180-400h160v-160H180v160Zm440 0h160v-160H620v160ZM180-180h160v-160H180v160Zm440 0h160v-160H620v160Z\"/>\n",
              "  </svg>\n",
              "    </button>\n",
              "\n",
              "  <style>\n",
              "    .colab-df-container {\n",
              "      display:flex;\n",
              "      gap: 12px;\n",
              "    }\n",
              "\n",
              "    .colab-df-convert {\n",
              "      background-color: #E8F0FE;\n",
              "      border: none;\n",
              "      border-radius: 50%;\n",
              "      cursor: pointer;\n",
              "      display: none;\n",
              "      fill: #1967D2;\n",
              "      height: 32px;\n",
              "      padding: 0 0 0 0;\n",
              "      width: 32px;\n",
              "    }\n",
              "\n",
              "    .colab-df-convert:hover {\n",
              "      background-color: #E2EBFA;\n",
              "      box-shadow: 0px 1px 2px rgba(60, 64, 67, 0.3), 0px 1px 3px 1px rgba(60, 64, 67, 0.15);\n",
              "      fill: #174EA6;\n",
              "    }\n",
              "\n",
              "    .colab-df-buttons div {\n",
              "      margin-bottom: 4px;\n",
              "    }\n",
              "\n",
              "    [theme=dark] .colab-df-convert {\n",
              "      background-color: #3B4455;\n",
              "      fill: #D2E3FC;\n",
              "    }\n",
              "\n",
              "    [theme=dark] .colab-df-convert:hover {\n",
              "      background-color: #434B5C;\n",
              "      box-shadow: 0px 1px 3px 1px rgba(0, 0, 0, 0.15);\n",
              "      filter: drop-shadow(0px 1px 2px rgba(0, 0, 0, 0.3));\n",
              "      fill: #FFFFFF;\n",
              "    }\n",
              "  </style>\n",
              "\n",
              "    <script>\n",
              "      const buttonEl =\n",
              "        document.querySelector('#df-ca095bbe-6078-431a-ac99-83bcd3ca591d button.colab-df-convert');\n",
              "      buttonEl.style.display =\n",
              "        google.colab.kernel.accessAllowed ? 'block' : 'none';\n",
              "\n",
              "      async function convertToInteractive(key) {\n",
              "        const element = document.querySelector('#df-ca095bbe-6078-431a-ac99-83bcd3ca591d');\n",
              "        const dataTable =\n",
              "          await google.colab.kernel.invokeFunction('convertToInteractive',\n",
              "                                                    [key], {});\n",
              "        if (!dataTable) return;\n",
              "\n",
              "        const docLinkHtml = 'Like what you see? Visit the ' +\n",
              "          '<a target=\"_blank\" href=https://colab.research.google.com/notebooks/data_table.ipynb>data table notebook</a>'\n",
              "          + ' to learn more about interactive tables.';\n",
              "        element.innerHTML = '';\n",
              "        dataTable['output_type'] = 'display_data';\n",
              "        await google.colab.output.renderOutput(dataTable, element);\n",
              "        const docLink = document.createElement('div');\n",
              "        docLink.innerHTML = docLinkHtml;\n",
              "        element.appendChild(docLink);\n",
              "      }\n",
              "    </script>\n",
              "  </div>\n",
              "\n",
              "\n",
              "    <div id=\"df-c08d5054-d8ec-40d8-8631-dc01c52626e1\">\n",
              "      <button class=\"colab-df-quickchart\" onclick=\"quickchart('df-c08d5054-d8ec-40d8-8631-dc01c52626e1')\"\n",
              "                title=\"Suggest charts\"\n",
              "                style=\"display:none;\">\n",
              "\n",
              "<svg xmlns=\"http://www.w3.org/2000/svg\" height=\"24px\"viewBox=\"0 0 24 24\"\n",
              "     width=\"24px\">\n",
              "    <g>\n",
              "        <path d=\"M19 3H5c-1.1 0-2 .9-2 2v14c0 1.1.9 2 2 2h14c1.1 0 2-.9 2-2V5c0-1.1-.9-2-2-2zM9 17H7v-7h2v7zm4 0h-2V7h2v10zm4 0h-2v-4h2v4z\"/>\n",
              "    </g>\n",
              "</svg>\n",
              "      </button>\n",
              "\n",
              "<style>\n",
              "  .colab-df-quickchart {\n",
              "      --bg-color: #E8F0FE;\n",
              "      --fill-color: #1967D2;\n",
              "      --hover-bg-color: #E2EBFA;\n",
              "      --hover-fill-color: #174EA6;\n",
              "      --disabled-fill-color: #AAA;\n",
              "      --disabled-bg-color: #DDD;\n",
              "  }\n",
              "\n",
              "  [theme=dark] .colab-df-quickchart {\n",
              "      --bg-color: #3B4455;\n",
              "      --fill-color: #D2E3FC;\n",
              "      --hover-bg-color: #434B5C;\n",
              "      --hover-fill-color: #FFFFFF;\n",
              "      --disabled-bg-color: #3B4455;\n",
              "      --disabled-fill-color: #666;\n",
              "  }\n",
              "\n",
              "  .colab-df-quickchart {\n",
              "    background-color: var(--bg-color);\n",
              "    border: none;\n",
              "    border-radius: 50%;\n",
              "    cursor: pointer;\n",
              "    display: none;\n",
              "    fill: var(--fill-color);\n",
              "    height: 32px;\n",
              "    padding: 0;\n",
              "    width: 32px;\n",
              "  }\n",
              "\n",
              "  .colab-df-quickchart:hover {\n",
              "    background-color: var(--hover-bg-color);\n",
              "    box-shadow: 0 1px 2px rgba(60, 64, 67, 0.3), 0 1px 3px 1px rgba(60, 64, 67, 0.15);\n",
              "    fill: var(--button-hover-fill-color);\n",
              "  }\n",
              "\n",
              "  .colab-df-quickchart-complete:disabled,\n",
              "  .colab-df-quickchart-complete:disabled:hover {\n",
              "    background-color: var(--disabled-bg-color);\n",
              "    fill: var(--disabled-fill-color);\n",
              "    box-shadow: none;\n",
              "  }\n",
              "\n",
              "  .colab-df-spinner {\n",
              "    border: 2px solid var(--fill-color);\n",
              "    border-color: transparent;\n",
              "    border-bottom-color: var(--fill-color);\n",
              "    animation:\n",
              "      spin 1s steps(1) infinite;\n",
              "  }\n",
              "\n",
              "  @keyframes spin {\n",
              "    0% {\n",
              "      border-color: transparent;\n",
              "      border-bottom-color: var(--fill-color);\n",
              "      border-left-color: var(--fill-color);\n",
              "    }\n",
              "    20% {\n",
              "      border-color: transparent;\n",
              "      border-left-color: var(--fill-color);\n",
              "      border-top-color: var(--fill-color);\n",
              "    }\n",
              "    30% {\n",
              "      border-color: transparent;\n",
              "      border-left-color: var(--fill-color);\n",
              "      border-top-color: var(--fill-color);\n",
              "      border-right-color: var(--fill-color);\n",
              "    }\n",
              "    40% {\n",
              "      border-color: transparent;\n",
              "      border-right-color: var(--fill-color);\n",
              "      border-top-color: var(--fill-color);\n",
              "    }\n",
              "    60% {\n",
              "      border-color: transparent;\n",
              "      border-right-color: var(--fill-color);\n",
              "    }\n",
              "    80% {\n",
              "      border-color: transparent;\n",
              "      border-right-color: var(--fill-color);\n",
              "      border-bottom-color: var(--fill-color);\n",
              "    }\n",
              "    90% {\n",
              "      border-color: transparent;\n",
              "      border-bottom-color: var(--fill-color);\n",
              "    }\n",
              "  }\n",
              "</style>\n",
              "\n",
              "      <script>\n",
              "        async function quickchart(key) {\n",
              "          const quickchartButtonEl =\n",
              "            document.querySelector('#' + key + ' button');\n",
              "          quickchartButtonEl.disabled = true;  // To prevent multiple clicks.\n",
              "          quickchartButtonEl.classList.add('colab-df-spinner');\n",
              "          try {\n",
              "            const charts = await google.colab.kernel.invokeFunction(\n",
              "                'suggestCharts', [key], {});\n",
              "          } catch (error) {\n",
              "            console.error('Error during call to suggestCharts:', error);\n",
              "          }\n",
              "          quickchartButtonEl.classList.remove('colab-df-spinner');\n",
              "          quickchartButtonEl.classList.add('colab-df-quickchart-complete');\n",
              "        }\n",
              "        (() => {\n",
              "          let quickchartButtonEl =\n",
              "            document.querySelector('#df-c08d5054-d8ec-40d8-8631-dc01c52626e1 button');\n",
              "          quickchartButtonEl.style.display =\n",
              "            google.colab.kernel.accessAllowed ? 'block' : 'none';\n",
              "        })();\n",
              "      </script>\n",
              "    </div>\n",
              "\n",
              "    </div>\n",
              "  </div>\n"
            ],
            "application/vnd.google.colaboratory.intrinsic+json": {
              "type": "dataframe",
              "variable_name": "df",
              "summary": "{\n  \"name\": \"df\",\n  \"rows\": 22774,\n  \"fields\": [\n    {\n      \"column\": \"Rating\",\n      \"properties\": {\n        \"dtype\": \"number\",\n        \"std\": 0.5196761168105514,\n        \"min\": 1.0,\n        \"max\": 5.0,\n        \"num_unique_values\": 41,\n        \"samples\": [\n          2.4,\n          5.0,\n          3.9\n        ],\n        \"semantic_type\": \"\",\n        \"description\": \"\"\n      }\n    },\n    {\n      \"column\": \"Company Name\",\n      \"properties\": {\n        \"dtype\": \"category\",\n        \"num_unique_values\": 11262,\n        \"samples\": [\n          \"Tychon Solutions\",\n          \"Ajath\",\n          \"exevo\"\n        ],\n        \"semantic_type\": \"\",\n        \"description\": \"\"\n      }\n    },\n    {\n      \"column\": \"Job Title\",\n      \"properties\": {\n        \"dtype\": \"category\",\n        \"num_unique_values\": 1084,\n        \"samples\": [\n          \"Senior Python Developer/Software Engineer\",\n          \"Android Applications Develpoers\",\n          \"Front-End Developer\"\n        ],\n        \"semantic_type\": \"\",\n        \"description\": \"\"\n      }\n    },\n    {\n      \"column\": \"Salary\",\n      \"properties\": {\n        \"dtype\": \"number\",\n        \"std\": 884326,\n        \"min\": 2112,\n        \"max\": 90000000,\n        \"num_unique_values\": 316,\n        \"samples\": [\n          2040192,\n          432000,\n          1116000\n        ],\n        \"semantic_type\": \"\",\n        \"description\": \"\"\n      }\n    },\n    {\n      \"column\": \"Salaries Reported\",\n      \"properties\": {\n        \"dtype\": \"number\",\n        \"std\": 6,\n        \"min\": 1,\n        \"max\": 361,\n        \"num_unique_values\": 82,\n        \"samples\": [\n          291,\n          3,\n          26\n        ],\n        \"semantic_type\": \"\",\n        \"description\": \"\"\n      }\n    },\n    {\n      \"column\": \"Location\",\n      \"properties\": {\n        \"dtype\": \"category\",\n        \"num_unique_values\": 10,\n        \"samples\": [\n          \"Madhya Pradesh\",\n          \"Chennai\",\n          \"Jaipur\"\n        ],\n        \"semantic_type\": \"\",\n        \"description\": \"\"\n      }\n    }\n  ]\n}"
            }
          },
          "metadata": {},
          "execution_count": 2
        }
      ]
    },
    {
      "cell_type": "markdown",
      "source": [
        "# **4. Exploratory Data Analysis (EDA)**\n",
        "\n",
        "Pada tahap ini, Anda akan melakukan **Exploratory Data Analysis (EDA)** untuk memahami karakteristik dataset.\n",
        "\n",
        "Tujuan dari EDA adalah untuk memperoleh wawasan awal yang mendalam mengenai data dan menentukan langkah selanjutnya dalam analisis atau pemodelan."
      ],
      "metadata": {
        "id": "bgZkbJLpK9UR"
      }
    },
    {
      "cell_type": "markdown",
      "source": [
        "a. Pemeriksaan Tipe Data dan Nilai Hilang (Missing Values)"
      ],
      "metadata": {
        "id": "uVobYxru1y8q"
      }
    },
    {
      "cell_type": "code",
      "source": [
        "# Cek informasi umum DataFrame\n",
        "df.info()\n",
        "\n",
        "# Cek statistik deskriptif untuk kolom numerik\n",
        "df.describe()\n",
        "\n",
        "# Cek jumlah nilai unik pada setiap kolom kategorikal (untuk perencanaan encoding)\n",
        "for col in ['Company Name', 'Job Title', 'Location']:\n",
        "    print(f\"Kolom '{col}': {df[col].nunique()} nilai unik.\")"
      ],
      "metadata": {
        "id": "dKeejtvxM6X1",
        "colab": {
          "base_uri": "https://localhost:8080/"
        },
        "outputId": "e7b7396f-9380-4a46-aac5-9945d41d62bb"
      },
      "execution_count": null,
      "outputs": [
        {
          "output_type": "stream",
          "name": "stdout",
          "text": [
            "<class 'pandas.core.frame.DataFrame'>\n",
            "RangeIndex: 22774 entries, 0 to 22773\n",
            "Data columns (total 6 columns):\n",
            " #   Column             Non-Null Count  Dtype  \n",
            "---  ------             --------------  -----  \n",
            " 0   Rating             22774 non-null  float64\n",
            " 1   Company Name       22773 non-null  object \n",
            " 2   Job Title          22774 non-null  object \n",
            " 3   Salary             22774 non-null  int64  \n",
            " 4   Salaries Reported  22774 non-null  int64  \n",
            " 5   Location           22774 non-null  object \n",
            "dtypes: float64(1), int64(2), object(3)\n",
            "memory usage: 1.0+ MB\n",
            "Kolom 'Company Name': 11262 nilai unik.\n",
            "Kolom 'Job Title': 1084 nilai unik.\n",
            "Kolom 'Location': 10 nilai unik.\n"
          ]
        }
      ]
    },
    {
      "cell_type": "markdown",
      "source": [
        "b. Menangani Nilai Hilang dan Duplikat"
      ],
      "metadata": {
        "id": "dsNeTCjt11AZ"
      }
    },
    {
      "cell_type": "code",
      "source": [
        "# Menghitung persentase nilai hilang per kolom\n",
        "missing_data = df.isnull().sum()\n",
        "print(\"Jumlah nilai hilang per kolom:\\n\", missing_data[missing_data > 0])\n",
        "\n",
        "# Menghitung duplikat\n",
        "print(\"\\nJumlah baris duplikat:\", df.duplicated().sum())\n",
        "\n",
        "# Contoh penanganan: Hapus baris dengan nilai hilang (jika jumlahnya sedikit)\n",
        "df_cleaned = df.dropna().copy()\n",
        "\n",
        "# Contoh penanganan: Hapus duplikat\n",
        "df_cleaned.drop_duplicates(inplace=True)\n",
        "\n",
        "print(f\"\\nShape data setelah dibersihkan (NaN/Duplicates): {df_cleaned.shape}\")"
      ],
      "metadata": {
        "colab": {
          "base_uri": "https://localhost:8080/"
        },
        "id": "cVzmXSbl16_y",
        "outputId": "91bf0dce-27b5-4df8-d649-b78cdee4a62c"
      },
      "execution_count": null,
      "outputs": [
        {
          "output_type": "stream",
          "name": "stdout",
          "text": [
            "Jumlah nilai hilang per kolom:\n",
            " Company Name    1\n",
            "dtype: int64\n",
            "\n",
            "Jumlah baris duplikat: 0\n",
            "\n",
            "Shape data setelah dibersihkan (NaN/Duplicates): (22773, 6)\n"
          ]
        }
      ]
    },
    {
      "cell_type": "markdown",
      "source": [
        "c. Analisis Distribusi Data (Target Variabel)"
      ],
      "metadata": {
        "id": "NE6MflrL2JXJ"
      }
    },
    {
      "cell_type": "code",
      "source": [
        "plt.figure(figsize=(12, 5))\n",
        "\n",
        "# Distribusi Gaji\n",
        "plt.subplot(1, 2, 1)\n",
        "sns.histplot(df_cleaned['Salary'], kde=True)\n",
        "plt.title('Distribusi Gaji (Salary)')\n",
        "\n",
        "# Box Plot untuk melihat outlier\n",
        "plt.subplot(1, 2, 2)\n",
        "sns.boxplot(y=df_cleaned['Salary'])\n",
        "plt.title('Box Plot Gaji (Salary)')\n",
        "\n",
        "plt.tight_layout()\n",
        "plt.show()\n",
        "\n",
        "# Setelah visualisasi, jika terdeteksi distribusi miring (skewness) atau outlier ekstrem, catat untuk preprocessing selanjutnya."
      ],
      "metadata": {
        "colab": {
          "base_uri": "https://localhost:8080/",
          "height": 507
        },
        "id": "bMXdBOeb2KGY",
        "outputId": "97c11a69-5c82-4278-f29d-ad9c72d84bf9"
      },
      "execution_count": null,
      "outputs": [
        {
          "output_type": "display_data",
          "data": {
            "text/plain": [
              "<Figure size 1200x500 with 2 Axes>"
            ],
            "image/png": "[encoded data removed]"
          },
          "metadata": {}
        }
      ]
    },
    {
      "cell_type": "markdown",
      "source": [
        "# **5. Data Preprocessing**"
      ],
      "metadata": {
        "id": "cpgHfgnSK3ip"
      }
    },
    {
      "cell_type": "markdown",
      "source": [
        "Pada tahap ini, data preprocessing adalah langkah penting untuk memastikan kualitas data sebelum digunakan dalam model machine learning.\n",
        "\n",
        "Jika Anda menggunakan data teks, data mentah sering kali mengandung nilai kosong, duplikasi, atau rentang nilai yang tidak konsisten, yang dapat memengaruhi kinerja model. Oleh karena itu, proses ini bertujuan untuk membersihkan dan mempersiapkan data agar analisis berjalan optimal.\n",
        "\n",
        "Berikut adalah tahapan-tahapan yang bisa dilakukan, tetapi **tidak terbatas** pada:\n",
        "1. Menghapus atau Menangani Data Kosong (Missing Values)\n",
        "2. Menghapus Data Duplikat\n",
        "3. Normalisasi atau Standarisasi Fitur\n",
        "4. Deteksi dan Penanganan Outlier\n",
        "5. Encoding Data Kategorikal\n",
        "6. Binning (Pengelompokan Data)\n",
        "\n",
        "Cukup sesuaikan dengan karakteristik data yang kamu gunakan yah. Khususnya ketika kami menggunakan data tidak terstruktur."
      ],
      "metadata": {
        "id": "COf8KUPXLg5r"
      }
    },
    {
      "cell_type": "code",
      "source": [
        "# 1. Tentukan Fitur dan Target\n",
        "X = df_cleaned.drop('Salary', axis=1)\n",
        "y = df_cleaned['Salary']\n",
        "\n",
        "# 2. Bagi Data menjadi Training dan Testing (gunakan random_state untuk reproduktifitas)\n",
        "X_train, X_test, y_train, y_test = train_test_split(X, y, test_size=0.2, random_state=42)\n",
        "\n",
        "# Pisahkan kolom berdasarkan tipe data (Numerik dan Kategorikal)\n",
        "numerical_features = ['Rating', 'Salaries Reported']\n",
        "# Gunakan kolom-kolom yang lain sebagai kategorikal\n",
        "categorical_features = ['Company Name', 'Job Title', 'Location']\n",
        "\n",
        "# 3. Buat Pipeline Preprocessing (ColumnTransformer)\n",
        "# Perhatian: Untuk data asli yang besar, membiarkan kolom Company Name/Job Title/Location\n",
        "# dengan banyak kategori unik (high cardinality) dapat menyebabkan masalah memori jika di-OneHotEncode.\n",
        "# Untuk tugas ini, kita asumsikan beberapa penyaringan telah dilakukan/tidak masalah.\n",
        "preprocessor = ColumnTransformer(\n",
        "    transformers=[\n",
        "        ('num', StandardScaler(), numerical_features),\n",
        "        ('cat', OneHotEncoder(handle_unknown='ignore', sparse_output=False), categorical_features)\n",
        "    ],\n",
        "    remainder='passthrough'\n",
        ")\n",
        "\n",
        "# Terapkan transformasi pada data pelatihan (X_train)\n",
        "X_train_processed = preprocessor.fit_transform(X_train)\n",
        "\n",
        "# Terapkan transformasi pada data pengujian (X_test)\n",
        "X_test_processed = preprocessor.transform(X_test)\n",
        "\n",
        "# Konversi kembali ke DataFrame (opsional, tetapi membantu untuk inspeksi)\n",
        "feature_names = preprocessor.get_feature_names_out()\n",
        "\n",
        "X_train_processed_df = pd.DataFrame(X_train_processed, columns=feature_names)\n",
        "X_test_processed_df = pd.DataFrame(X_test_processed, columns=feature_names)\n",
        "\n",
        "print(\"\\nData Training setelah preprocessing (5 baris pertama):\\n\", X_train_processed_df.head())\n",
        "\n",
        "# Simpan hasil preprocessing ke file (untuk Kriteria 2)\n",
        "# Anda bisa menyimpannya sebagai file CSV/pickle/parquet/dll.\n",
        "# Misalnya, gabungkan kembali X dan y, lalu simpan:\n",
        "# processed_df = pd.concat([pd.DataFrame(X_train_processed, columns=feature_names), y_train.reset_index(drop=True)], axis=1)\n",
        "# processed_df.to_csv('preprocessing/namadataset_preprocessing/processed_data.csv', index=False)"
      ],
      "metadata": {
        "id": "Og8pGV0-iDLz",
        "colab": {
          "base_uri": "https://localhost:8080/"
        },
        "outputId": "6b37eeab-5b2e-45df-d26e-0f054e5924e1"
      },
      "execution_count": null,
      "outputs": [
        {
          "output_type": "stream",
          "name": "stdout",
          "text": [
            "\n",
            "Data Training setelah preprocessing (5 baris pertama):\n",
            "    num__Rating  num__Salaries Reported  \\\n",
            "0     2.086970               -0.123078   \n",
            "1     0.350406               10.188673   \n",
            "2    -1.193206               -0.123078   \n",
            "3     0.157455               -0.123078   \n",
            "4    -2.350915               -0.123078   \n",
            "\n",
            "   cat__Company Name_(X,Y,Z) Architecture & Design  \\\n",
            "0                                              0.0   \n",
            "1                                              0.0   \n",
            "2                                              0.0   \n",
            "3                                              0.0   \n",
            "4                                              0.0   \n",
            "\n",
            "   cat__Company Name_(no)name  cat__Company Name_-  cat__Company Name_.Kreate  \\\n",
            "0                         0.0                  0.0                        0.0   \n",
            "1                         0.0                  0.0                        0.0   \n",
            "2                         0.0                  0.0                        0.0   \n",
            "3                         0.0                  0.0                        0.0   \n",
            "4                         0.0                  0.0                        0.0   \n",
            "\n",
            "   cat__Company Name_10  cat__Company Name_100Plus (India)  \\\n",
            "0                   0.0                                0.0   \n",
            "1                   0.0                                0.0   \n",
            "2                   0.0                                0.0   \n",
            "3                   0.0                                0.0   \n",
            "4                   0.0                                0.0   \n",
            "\n",
            "   cat__Company Name_10Decoders Consultancy Services  \\\n",
            "0                                                0.0   \n",
            "1                                                0.0   \n",
            "2                                                0.0   \n",
            "3                                                0.0   \n",
            "4                                                0.0   \n",
            "\n",
            "   cat__Company Name_11Signals Technologies  ...  cat__Location_Bangalore  \\\n",
            "0                                       0.0  ...                      1.0   \n",
            "1                                       0.0  ...                      1.0   \n",
            "2                                       0.0  ...                      0.0   \n",
            "3                                       0.0  ...                      1.0   \n",
            "4                                       0.0  ...                      0.0   \n",
            "\n",
            "   cat__Location_Chennai  cat__Location_Hyderabad  cat__Location_Jaipur  \\\n",
            "0                    0.0                      0.0                   0.0   \n",
            "1                    0.0                      0.0                   0.0   \n",
            "2                    1.0                      0.0                   0.0   \n",
            "3                    0.0                      0.0                   0.0   \n",
            "4                    0.0                      1.0                   0.0   \n",
            "\n",
            "   cat__Location_Kerala  cat__Location_Kolkata  cat__Location_Madhya Pradesh  \\\n",
            "0                   0.0                    0.0                           0.0   \n",
            "1                   0.0                    0.0                           0.0   \n",
            "2                   0.0                    0.0                           0.0   \n",
            "3                   0.0                    0.0                           0.0   \n",
            "4                   0.0                    0.0                           0.0   \n",
            "\n",
            "   cat__Location_Mumbai  cat__Location_New Delhi  cat__Location_Pune  \n",
            "0                   0.0                      0.0                 0.0  \n",
            "1                   0.0                      0.0                 0.0  \n",
            "2                   0.0                      0.0                 0.0  \n",
            "3                   0.0                      0.0                 0.0  \n",
            "4                   0.0                      0.0                 0.0  \n",
            "\n",
            "[5 rows x 10501 columns]\n"
          ]
        }
      ]
    }
  ]
}