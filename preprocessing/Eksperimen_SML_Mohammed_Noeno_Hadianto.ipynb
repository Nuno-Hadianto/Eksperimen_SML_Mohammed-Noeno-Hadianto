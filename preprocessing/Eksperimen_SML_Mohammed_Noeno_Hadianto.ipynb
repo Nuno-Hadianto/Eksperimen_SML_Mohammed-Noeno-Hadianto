{
  "nbformat": 4,
  "nbformat_minor": 0,
  "metadata": {
    "colab": {
      "provenance": [],
      "gpuType": "T4"
    },
    "kernelspec": {
      "name": "python3",
      "display_name": "Python 3"
    },
    "language_info": {
      "name": "python"
    },
    "accelerator": "GPU"
  },
  "cells": [
    {
      "cell_type": "markdown",
      "source": [
        "# **1. Perkenalan Dataset**\n"
      ],
      "metadata": {
        "id": "kZLRMFl0JyyQ"
      }
    },
    {
      "cell_type": "markdown",
      "source": [
        "Tahap pertama, Anda harus mencari dan menggunakan dataset dengan ketentuan sebagai berikut:\n",
        "\n",
        "1. **Sumber Dataset**:  \n",
        "   Dataset dapat diperoleh dari berbagai sumber, seperti public repositories (*Kaggle*, *UCI ML Repository*, *Open Data*) atau data primer yang Anda kumpulkan sendiri.\n"
      ],
      "metadata": {
        "id": "hssSDn-5n3HR"
      }
    },
    {
      "cell_type": "markdown",
      "source": [
        "# **2. Import Library**"
      ],
      "metadata": {
        "id": "fKADPWcFKlj3"
      }
    },
    {
      "cell_type": "markdown",
      "source": [
        "Pada tahap ini, Anda perlu mengimpor beberapa pustaka (library) Python yang dibutuhkan untuk analisis data dan pembangunan model machine learning atau deep learning."
      ],
      "metadata": {
        "id": "LgA3ERnVn84N"
      }
    },
    {
      "cell_type": "code",
      "source": [
        "import pandas as pd\n",
        "import numpy as np\n",
        "import matplotlib.pyplot as plt\n",
        "import seaborn as sns"
      ],
      "metadata": {
        "id": "BlmvjLY9M4Yj"
      },
      "execution_count": 1,
      "outputs": []
    },
    {
      "cell_type": "markdown",
      "source": [
        "# **3. Memuat Dataset**"
      ],
      "metadata": {
        "id": "f3YIEnAFKrKL"
      }
    },
    {
      "cell_type": "markdown",
      "source": [
        "Pada tahap ini, Anda perlu memuat dataset ke dalam notebook. Jika dataset dalam format CSV, Anda bisa menggunakan pustaka pandas untuk membacanya. Pastikan untuk mengecek beberapa baris awal dataset untuk memahami strukturnya dan memastikan data telah dimuat dengan benar.\n",
        "\n",
        "Jika dataset berada di Google Drive, pastikan Anda menghubungkan Google Drive ke Colab terlebih dahulu. Setelah dataset berhasil dimuat, langkah berikutnya adalah memeriksa kesesuaian data dan siap untuk dianalisis lebih lanjut.\n",
        "\n",
        "Jika dataset berupa unstructured data, silakan sesuaikan dengan format seperti kelas Machine Learning Pengembangan atau Machine Learning Terapan"
      ],
      "metadata": {
        "id": "Ey3ItwTen_7E"
      }
    },
    {
      "cell_type": "code",
      "source": [
        "# Tentukan nama file dataset Anda\n",
        "file_path = \"netflix_titles.csv\"\n",
        "\n",
        "# Muat dataset menggunakan pandas\n",
        "try:\n",
        "    df = pd.read_csv(file_path)\n",
        "    print(f\"Dataset '{file_path}' berhasil dimuat.\")\n",
        "\n",
        "    # Menampilkan 5 baris pertama untuk inspeksi awal\n",
        "    print(\"\\n5 baris pertama dari dataset:\")\n",
        "    print(df.head())\n",
        "\n",
        "except FileNotFoundError:\n",
        "    print(f\"Error: File '{file_path}' tidak ditemukan.\")\n",
        "except Exception as e:\n",
        "    print(f\"Terjadi error saat memuat file: {e}\")"
      ],
      "metadata": {
        "id": "GHCGNTyrM5fS",
        "colab": {
          "base_uri": "https://localhost:8080/"
        },
        "outputId": "d59ca0ef-3016-4f37-bb28-dce1a040161f"
      },
      "execution_count": 2,
      "outputs": [
        {
          "output_type": "stream",
          "name": "stdout",
          "text": [
            "Dataset 'netflix_titles.csv' berhasil dimuat.\n",
            "\n",
            "5 baris pertama dari dataset:\n",
            "  show_id     type                  title         director  \\\n",
            "0      s1    Movie   Dick Johnson Is Dead  Kirsten Johnson   \n",
            "1      s2  TV Show          Blood & Water              NaN   \n",
            "2      s3  TV Show              Ganglands  Julien Leclercq   \n",
            "3      s4  TV Show  Jailbirds New Orleans              NaN   \n",
            "4      s5  TV Show           Kota Factory              NaN   \n",
            "\n",
            "                                                cast        country  \\\n",
            "0                                                NaN  United States   \n",
            "1  Ama Qamata, Khosi Ngema, Gail Mabalane, Thaban...   South Africa   \n",
            "2  Sami Bouajila, Tracy Gotoas, Samuel Jouy, Nabi...            NaN   \n",
            "3                                                NaN            NaN   \n",
            "4  Mayur More, Jitendra Kumar, Ranjan Raj, Alam K...          India   \n",
            "\n",
            "           date_added  release_year rating   duration  \\\n",
            "0  September 25, 2021          2020  PG-13     90 min   \n",
            "1  September 24, 2021          2021  TV-MA  2 Seasons   \n",
            "2  September 24, 2021          2021  TV-MA   1 Season   \n",
            "3  September 24, 2021          2021  TV-MA   1 Season   \n",
            "4  September 24, 2021          2021  TV-MA  2 Seasons   \n",
            "\n",
            "                                           listed_in  \\\n",
            "0                                      Documentaries   \n",
            "1    International TV Shows, TV Dramas, TV Mysteries   \n",
            "2  Crime TV Shows, International TV Shows, TV Act...   \n",
            "3                             Docuseries, Reality TV   \n",
            "4  International TV Shows, Romantic TV Shows, TV ...   \n",
            "\n",
            "                                         description  \n",
            "0  As her father nears the end of his life, filmm...  \n",
            "1  After crossing paths at a party, a Cape Town t...  \n",
            "2  To protect his family from a powerful drug lor...  \n",
            "3  Feuds, flirtations and toilet talk go down amo...  \n",
            "4  In a city of coaching centers known to train I...  \n"
          ]
        }
      ]
    },
    {
      "cell_type": "markdown",
      "source": [
        "# **4. Exploratory Data Analysis (EDA)**\n",
        "\n",
        "Pada tahap ini, Anda akan melakukan **Exploratory Data Analysis (EDA)** untuk memahami karakteristik dataset.\n",
        "\n",
        "Tujuan dari EDA adalah untuk memperoleh wawasan awal yang mendalam mengenai data dan menentukan langkah selanjutnya dalam analisis atau pemodelan."
      ],
      "metadata": {
        "id": "bgZkbJLpK9UR"
      }
    },
    {
      "cell_type": "code",
      "source": [
        "print(\"Memulai Exploratory Data Analysis (EDA)...\")\n",
        "\n",
        "# --- 1. Distribusi Tipe Konten (Movie vs TV Show) ---\n",
        "plt.figure(figsize=(6, 4))\n",
        "sns.countplot(x='type', data=df, order=df['type'].value_counts().index)\n",
        "plt.title('Distribusi Konten: Movie vs TV Show')\n",
        "plt.xlabel('Tipe Konten')\n",
        "plt.ylabel('Jumlah')\n",
        "plt.savefig('1_distribusi_tipe_konten.png')\n",
        "plt.clf() # Membersihkan plot untuk plot berikutnya\n",
        "print(\"Plot 1 (Tipe Konten) disimpan sebagai '1_distribusi_tipe_konten.png'\")\n",
        "print(df['type'].value_counts())\n",
        "\n",
        "\n",
        "# --- 2. Distribusi Rating ---\n",
        "plt.figure(figsize=(12, 6))\n",
        "# Mengurutkan berdasarkan frekuensi\n",
        "order = df['rating'].value_counts().index\n",
        "sns.countplot(x='rating', data=df, order=order)\n",
        "plt.title('Distribusi Rating Konten')\n",
        "plt.xlabel('Rating')\n",
        "plt.ylabel('Jumlah')\n",
        "plt.xticks(rotation=45)\n",
        "plt.tight_layout() # buat rapikan label\n",
        "plt.savefig('2_distribusi_rating.png')\n",
        "plt.clf()\n",
        "print(\"Plot 2 (Rating) disimpan sebagai '2_distribusi_rating.png'\")\n",
        "\n",
        "\n",
        "# --- 3. Top 10 Negara Produksi ---\n",
        "try:\n",
        "    countries = df.dropna(subset=['country'])['country'].str.split(', ').explode()\n",
        "    top_countries = countries.value_counts().head(10)\n",
        "\n",
        "    plt.figure(figsize=(12, 6))\n",
        "    sns.barplot(x=top_countries.values, y=top_countries.index)\n",
        "    plt.title('Top 10 Negara Produksi Konten')\n",
        "    plt.xlabel('Jumlah Konten')\n",
        "    plt.ylabel('Negara')\n",
        "    plt.tight_layout()\n",
        "    plt.savefig('3_top_10_negara.png')\n",
        "    plt.clf()\n",
        "    print(\"Plot 3 (Negara) disimpan sebagai '3_top_10_negara.png'\")\n",
        "    print(\"\\nTop 10 Negara:\")\n",
        "    print(top_countries)\n",
        "except Exception as e:\n",
        "    print(f\"Error saat memproses 'country': {e}\")\n",
        "\n",
        "\n",
        "# --- 4. Top 10 Genre (listed_in) ---\n",
        "try:\n",
        "    genres = df['listed_in'].str.split(', ').explode()\n",
        "    top_genres = genres.value_counts().head(10)\n",
        "\n",
        "    plt.figure(figsize=(12, 6))\n",
        "    sns.barplot(x=top_genres.values, y=top_genres.index)\n",
        "    plt.title('Top 10 Genre Konten')\n",
        "    plt.xlabel('Jumlah Konten')\n",
        "    plt.ylabel('Genre')\n",
        "    plt.tight_layout()\n",
        "    plt.savefig('4_top_10_genre.png')\n",
        "    plt.clf()\n",
        "    print(\"Plot 4 (Genre) disimpan sebagai '4_top_10_genre.png'\")\n",
        "    print(\"\\nTop 10 Genre:\")\n",
        "    print(top_genres)\n",
        "except Exception as e:\n",
        "    print(f\"Error saat memproses 'listed_in': {e}\")\n",
        "\n",
        "\n",
        "# --- 5. Analisis Durasi (terpisah untuk Movie dan TV Show) ---\n",
        "# Durasi Film (Movie)\n",
        "try:\n",
        "    df_movies = df[df['type'] == 'Movie'].copy()\n",
        "    # Membersihkan ' min' dan konversi ke integer\n",
        "    df_movies['duration_min'] = df_movies['duration'].str.replace(' min', '').astype(float) # pakai float untuk handle NaN\n",
        "\n",
        "    plt.figure(figsize=(10, 6))\n",
        "    sns.histplot(df_movies['duration_min'], bins=50, kde=True)\n",
        "    plt.title('Distribusi Durasi Film (dalam Menit)')\n",
        "    plt.xlabel('Durasi (Menit)')\n",
        "    plt.ylabel('Jumlah')\n",
        "    plt.savefig('5_distribusi_durasi_film.png')\n",
        "    plt.clf()\n",
        "    print(\"Plot 5 (Durasi Film) disimpan sebagai '5_distribusi_durasi_film.png'\")\n",
        "except Exception as e:\n",
        "    print(f\"Error saat memproses durasi film: {e}\")\n",
        "\n",
        "# Durasi TV Show (Musim)\n",
        "try:\n",
        "    df_tv_shows = df[df['type'] == 'TV Show'].copy()\n",
        "    # Membersihkan ' Season'/' Seasons' dan konversi ke integer\n",
        "    df_tv_shows['seasons'] = df_tv_shows['duration'].str.replace(' Seasons', '').str.replace(' Season', '').astype(float)\n",
        "\n",
        "    plt.figure(figsize=(10, 6))\n",
        "    sns.countplot(x='seasons', data=df_tv_shows, order=df_tv_shows['seasons'].value_counts().sort_index().index)\n",
        "    plt.title('Distribusi Jumlah Musim (TV Show)')\n",
        "    plt.xlabel('Jumlah Musim')\n",
        "    plt.ylabel('Jumlah')\n",
        "    plt.savefig('6_distribusi_jumlah_musim.png')\n",
        "    plt.clf()\n",
        "    print(\"Plot 6 (Durasi TV Show) disimpan sebagai '6_distribusi_jumlah_musim.png'\")\n",
        "except Exception as e:\n",
        "    print(f\"Error saat memproses durasi TV show: {e}\")\n",
        "\n",
        "print(\"\\nEDA Selesai. 6 plot telah disimpan sebagai file .png\")"
      ],
      "metadata": {
        "id": "dKeejtvxM6X1",
        "colab": {
          "base_uri": "https://localhost:8080/",
          "height": 833
        },
        "outputId": "ab1ce2f8-b28f-48ec-c7ba-bbd8749e7d98"
      },
      "execution_count": 3,
      "outputs": [
        {
          "output_type": "stream",
          "name": "stdout",
          "text": [
            "Memulai Exploratory Data Analysis (EDA)...\n",
            "Plot 1 (Tipe Konten) disimpan sebagai '1_distribusi_tipe_konten.png'\n",
            "type\n",
            "Movie      6131\n",
            "TV Show    2676\n",
            "Name: count, dtype: int64\n",
            "Plot 2 (Rating) disimpan sebagai '2_distribusi_rating.png'\n",
            "Plot 3 (Negara) disimpan sebagai '3_top_10_negara.png'\n",
            "\n",
            "Top 10 Negara:\n",
            "country\n",
            "United States     3689\n",
            "India             1046\n",
            "United Kingdom     804\n",
            "Canada             445\n",
            "France             393\n",
            "Japan              318\n",
            "Spain              232\n",
            "South Korea        231\n",
            "Germany            226\n",
            "Mexico             169\n",
            "Name: count, dtype: int64\n",
            "Plot 4 (Genre) disimpan sebagai '4_top_10_genre.png'\n",
            "\n",
            "Top 10 Genre:\n",
            "listed_in\n",
            "International Movies        2752\n",
            "Dramas                      2427\n",
            "Comedies                    1674\n",
            "International TV Shows      1351\n",
            "Documentaries                869\n",
            "Action & Adventure           859\n",
            "TV Dramas                    763\n",
            "Independent Movies           756\n",
            "Children & Family Movies     641\n",
            "Romantic Movies              616\n",
            "Name: count, dtype: int64\n",
            "Plot 5 (Durasi Film) disimpan sebagai '5_distribusi_durasi_film.png'\n",
            "Plot 6 (Durasi TV Show) disimpan sebagai '6_distribusi_jumlah_musim.png'\n",
            "\n",
            "EDA Selesai. 6 plot telah disimpan sebagai file .png\n"
          ]
        },
        {
          "output_type": "display_data",
          "data": {
            "text/plain": [
              "<Figure size 600x400 with 0 Axes>"
            ]
          },
          "metadata": {}
        },
        {
          "output_type": "display_data",
          "data": {
            "text/plain": [
              "<Figure size 1200x600 with 0 Axes>"
            ]
          },
          "metadata": {}
        },
        {
          "output_type": "display_data",
          "data": {
            "text/plain": [
              "<Figure size 1200x600 with 0 Axes>"
            ]
          },
          "metadata": {}
        },
        {
          "output_type": "display_data",
          "data": {
            "text/plain": [
              "<Figure size 1200x600 with 0 Axes>"
            ]
          },
          "metadata": {}
        },
        {
          "output_type": "display_data",
          "data": {
            "text/plain": [
              "<Figure size 1000x600 with 0 Axes>"
            ]
          },
          "metadata": {}
        },
        {
          "output_type": "display_data",
          "data": {
            "text/plain": [
              "<Figure size 1000x600 with 0 Axes>"
            ]
          },
          "metadata": {}
        }
      ]
    },
    {
      "cell_type": "markdown",
      "source": [
        "# **5. Data Preprocessing**"
      ],
      "metadata": {
        "id": "cpgHfgnSK3ip"
      }
    },
    {
      "cell_type": "markdown",
      "source": [
        "Pada tahap ini, data preprocessing adalah langkah penting untuk memastikan kualitas data sebelum digunakan dalam model machine learning.\n",
        "\n",
        "Jika Anda menggunakan data teks, data mentah sering kali mengandung nilai kosong, duplikasi, atau rentang nilai yang tidak konsisten, yang dapat memengaruhi kinerja model. Oleh karena itu, proses ini bertujuan untuk membersihkan dan mempersiapkan data agar analisis berjalan optimal.\n",
        "\n",
        "Berikut adalah tahapan-tahapan yang bisa dilakukan, tetapi **tidak terbatas** pada:\n",
        "1. Menghapus atau Menangani Data Kosong (Missing Values)\n",
        "2. Menghapus Data Duplikat\n",
        "3. Normalisasi atau Standarisasi Fitur\n",
        "4. Deteksi dan Penanganan Outlier\n",
        "5. Encoding Data Kategorikal\n",
        "6. Binning (Pengelompokan Data)\n",
        "\n",
        "Cukup sesuaikan dengan karakteristik data yang kamu gunakan yah. Khususnya ketika kami menggunakan data tidak terstruktur."
      ],
      "metadata": {
        "id": "COf8KUPXLg5r"
      }
    },
    {
      "cell_type": "code",
      "source": [
        "# --- 1. Cek jumlah missing values SEBELUM preprocessing ---\n",
        "print(\"Jumlah missing values SEBELUM preprocessing:\")\n",
        "print(df.isnull().sum())\n",
        "print(\"-\" * 30)\n",
        "\n",
        "# --- 2. Menangani Missing Values ---\n",
        "\n",
        "# Mengisi nilai kosong dengan \"Unknown\"\n",
        "# .fillna() untuk mengisi nilai NaN\n",
        "df['director'].fillna('Unknown', inplace=True)\n",
        "df['cast'].fillna('Unknown', inplace=True)\n",
        "df['country'].fillna('Unknown', inplace=True)\n",
        "\n",
        "# Menghapus baris yang memiliki nilai kosong pada kolom tertentu\n",
        "# .dropna() pada subset kolom\n",
        "df.dropna(subset=['date_added', 'rating', 'duration'], inplace=True)\n",
        "\n",
        "# --- 3. Cek jumlah missing values SETELAH preprocessing ---\n",
        "print(\"\\nJumlah missing values SETELAH preprocessing:\")\n",
        "print(df.isnull().sum())\n",
        "print(\"-\" * 30)\n",
        "\n",
        "# --- 4. Cek bentuk data setelah preprocessing ---\n",
        "print(f\"\\nBentuk data asli: (8807, 12)\")\n",
        "print(f\"Bentuk data setelah dibersihkan: {df.shape}\")\n",
        "print(\"\\nData preprocessing untuk missing values selesai!\")"
      ],
      "metadata": {
        "id": "Og8pGV0-iDLz",
        "colab": {
          "base_uri": "https://localhost:8080/"
        },
        "outputId": "69495384-ffbd-4df7-d0d7-b4ef97a82ecb"
      },
      "execution_count": 4,
      "outputs": [
        {
          "output_type": "stream",
          "name": "stdout",
          "text": [
            "Jumlah missing values SEBELUM preprocessing:\n",
            "show_id            0\n",
            "type               0\n",
            "title              0\n",
            "director        2634\n",
            "cast             825\n",
            "country          831\n",
            "date_added        10\n",
            "release_year       0\n",
            "rating             4\n",
            "duration           3\n",
            "listed_in          0\n",
            "description        0\n",
            "dtype: int64\n",
            "------------------------------\n",
            "\n",
            "Jumlah missing values SETELAH preprocessing:\n",
            "show_id         0\n",
            "type            0\n",
            "title           0\n",
            "director        0\n",
            "cast            0\n",
            "country         0\n",
            "date_added      0\n",
            "release_year    0\n",
            "rating          0\n",
            "duration        0\n",
            "listed_in       0\n",
            "description     0\n",
            "dtype: int64\n",
            "------------------------------\n",
            "\n",
            "Bentuk data asli: (8807, 12)\n",
            "Bentuk data setelah dibersihkan: (8790, 12)\n",
            "\n",
            "Data preprocessing untuk missing values selesai!\n"
          ]
        },
        {
          "output_type": "stream",
          "name": "stderr",
          "text": [
            "/tmp/ipython-input-1396348833.py:10: FutureWarning: A value is trying to be set on a copy of a DataFrame or Series through chained assignment using an inplace method.\n",
            "The behavior will change in pandas 3.0. This inplace method will never work because the intermediate object on which we are setting values always behaves as a copy.\n",
            "\n",
            "For example, when doing 'df[col].method(value, inplace=True)', try using 'df.method({col: value}, inplace=True)' or df[col] = df[col].method(value) instead, to perform the operation inplace on the original object.\n",
            "\n",
            "\n",
            "  df['director'].fillna('Unknown', inplace=True)\n",
            "/tmp/ipython-input-1396348833.py:11: FutureWarning: A value is trying to be set on a copy of a DataFrame or Series through chained assignment using an inplace method.\n",
            "The behavior will change in pandas 3.0. This inplace method will never work because the intermediate object on which we are setting values always behaves as a copy.\n",
            "\n",
            "For example, when doing 'df[col].method(value, inplace=True)', try using 'df.method({col: value}, inplace=True)' or df[col] = df[col].method(value) instead, to perform the operation inplace on the original object.\n",
            "\n",
            "\n",
            "  df['cast'].fillna('Unknown', inplace=True)\n",
            "/tmp/ipython-input-1396348833.py:12: FutureWarning: A value is trying to be set on a copy of a DataFrame or Series through chained assignment using an inplace method.\n",
            "The behavior will change in pandas 3.0. This inplace method will never work because the intermediate object on which we are setting values always behaves as a copy.\n",
            "\n",
            "For example, when doing 'df[col].method(value, inplace=True)', try using 'df.method({col: value}, inplace=True)' or df[col] = df[col].method(value) instead, to perform the operation inplace on the original object.\n",
            "\n",
            "\n",
            "  df['country'].fillna('Unknown', inplace=True)\n"
          ]
        }
      ]
    },
    {
      "cell_type": "code",
      "source": [
        "output_notebook_csv = \"netflix_preprocessed_notebook.csv\"\n",
        "\n",
        "try:\n",
        "    df.to_csv(output_notebook_csv, index=False)\n",
        "    print(f\"Dataset bersih dari notebook berhasil disimpan sebagai: {output_notebook_csv}\")\n",
        "except NameError:\n",
        "    print(\"Error: Pastikan DataFrame 'df' atau sesuaikan nama variabelnya wak.\")\n",
        "except Exception as e:\n",
        "    print(f\"Error saat menyimpan file CSV dari notebook: {e}\")"
      ],
      "metadata": {
        "colab": {
          "base_uri": "https://localhost:8080/"
        },
        "id": "BYXFahtjybEK",
        "outputId": "74165626-ebb6-49bb-a57a-247b3e89d859"
      },
      "execution_count": 5,
      "outputs": [
        {
          "output_type": "stream",
          "name": "stdout",
          "text": [
            "Dataset bersih dari notebook berhasil disimpan sebagai: netflix_preprocessed_notebook.csv\n"
          ]
        }
      ]
    }
  ]
}